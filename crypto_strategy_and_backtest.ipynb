{
 "nbformat": 4,
 "nbformat_minor": 0,
 "metadata": {
  "colab": {
   "provenance": []
  },
  "kernelspec": {
   "name": "python3",
   "display_name": "Python 3"
  },
  "language_info": {
   "name": "python"
  }
 },
 "cells": [
  {
   "cell_type": "markdown",
   "source": [
    "Pairs Trading in Crytpo, Event Driven Backtesting and Evaluation"
   ],
   "metadata": {
    "id": "v2h1w5m5pmNL"
   }
  },
  {
   "cell_type": "code",
   "source": [
    "import warnings\n",
    "warnings.filterwarnings('ignore')"
   ],
   "metadata": {
    "id": "V86QVURkQQCr"
   },
   "execution_count": null,
   "outputs": []
  },
  {
   "cell_type": "markdown",
   "source": [
    "1. Data processing & EDA"
   ],
   "metadata": {
    "id": "gL1HAS5Kpz3E"
   }
  },
  {
   "cell_type": "code",
   "execution_count": null,
   "metadata": {
    "id": "E11o8-s08WGl",
    "colab": {
     "base_uri": "https://localhost:8080/"
    },
    "outputId": "a34b5f94-ec39-4639-f468-5f3757007ef1"
   },
   "outputs": [
    {
     "output_type": "stream",
     "name": "stdout",
     "text": [
      "Looking in indexes: https://pypi.org/simple, https://us-python.pkg.dev/colab-wheels/public/simple/\n",
      "Requirement already satisfied: opendatasets in /usr/local/lib/python3.10/dist-packages (0.1.22)\n",
      "Requirement already satisfied: tqdm in /usr/local/lib/python3.10/dist-packages (from opendatasets) (4.65.0)\n",
      "Requirement already satisfied: kaggle in /usr/local/lib/python3.10/dist-packages (from opendatasets) (1.5.13)\n",
      "Requirement already satisfied: click in /usr/local/lib/python3.10/dist-packages (from opendatasets) (8.1.3)\n",
      "Requirement already satisfied: six>=1.10 in /usr/local/lib/python3.10/dist-packages (from kaggle->opendatasets) (1.16.0)\n",
      "Requirement already satisfied: certifi in /usr/local/lib/python3.10/dist-packages (from kaggle->opendatasets) (2022.12.7)\n",
      "Requirement already satisfied: python-dateutil in /usr/local/lib/python3.10/dist-packages (from kaggle->opendatasets) (2.8.2)\n",
      "Requirement already satisfied: requests in /usr/local/lib/python3.10/dist-packages (from kaggle->opendatasets) (2.27.1)\n",
      "Requirement already satisfied: python-slugify in /usr/local/lib/python3.10/dist-packages (from kaggle->opendatasets) (8.0.1)\n",
      "Requirement already satisfied: urllib3 in /usr/local/lib/python3.10/dist-packages (from kaggle->opendatasets) (1.26.15)\n",
      "Requirement already satisfied: text-unidecode>=1.3 in /usr/local/lib/python3.10/dist-packages (from python-slugify->kaggle->opendatasets) (1.3)\n",
      "Requirement already satisfied: charset-normalizer~=2.0.0 in /usr/local/lib/python3.10/dist-packages (from requests->kaggle->opendatasets) (2.0.12)\n",
      "Requirement already satisfied: idna<4,>=2.5 in /usr/local/lib/python3.10/dist-packages (from requests->kaggle->opendatasets) (3.4)\n"
     ]
    }
   ],
   "source": [
    "!pip install opendatasets"
   ]
  },
  {
   "cell_type": "code",
   "source": [
    "import datetime\n",
    "import os\n",
    "import shutil\n",
    "from decimal import Decimal\n",
    "import fsspec\n",
    "import pandas as pd"
   ],
   "metadata": {
    "id": "A9ki6h1fLK0Y"
   },
   "execution_count": null,
   "outputs": []
  },
  {
   "cell_type": "code",
   "source": [
    "import opendatasets as od\n",
    "od.download(\"https://www.kaggle.com/datasets/tencars/392-crypto-currency-pairs-at-minute-resolution\")"
   ],
   "metadata": {
    "colab": {
     "base_uri": "https://localhost:8080/"
    },
    "id": "BumfOnHz97e1",
    "outputId": "bb3d5337-0e44-40f9-b647-c11cbc4ecaca"
   },
   "execution_count": null,
   "outputs": [
    {
     "output_type": "stream",
     "name": "stdout",
     "text": [
      "Skipping, found downloaded files in \"./392-crypto-currency-pairs-at-minute-resolution\" (use force=True to force download)\n"
     ]
    }
   ]
  },
  {
   "cell_type": "code",
   "source": [
    "DATA_DIR = \"./392-crypto-currency-pairs-at-minute-resolution\"\n",
    "fs = fsspec.filesystem('file')\n",
    "raw_files = fs.glob(f\"{DATA_DIR}/*.csv\")\n",
    "assert raw_files, f\"Unable to find any histdata files in directory {DATA_DIR}\""
   ],
   "metadata": {
    "id": "S3MJSv0ULsiR"
   },
   "execution_count": null,
   "outputs": []
  },
  {
   "cell_type": "markdown",
   "source": [
    "I found that CSV file with \"_usd.csv\" is the relatively latest spot price data, so I will use spot price data for correlation calculation and long/short portfolio calculation"
   ],
   "metadata": {
    "id": "kBSg1XkBp5d3"
   }
  },
  {
   "cell_type": "code",
   "source": [
    "spot = [link for link in raw_files if link.endswith('_usd.csv') ] # for correlation calculation"
   ],
   "metadata": {
    "id": "rACMmnPBR8hJ"
   },
   "execution_count": null,
   "outputs": []
  },
  {
   "cell_type": "markdown",
   "source": [
    "I see the time interval in these files concentrate from 2023-06-03 12:00:00 to 2023-06-11 12:00:00, so I will use interval 2023-06-03 12:00:00 => 2023-06-09 12:00:00 of the data for correlation calculation and interval 2023-06-09 12:00:00 => 2023-06-11 12:00:00 for backtesting"
   ],
   "metadata": {
    "id": "B_vjAWoT-uBi"
   }
  },
  {
   "cell_type": "code",
   "source": [
    "#use multi threading to read all the csv files with file path array spot to pandas dataframe, with index as datetime, symbol as column name and close price as value, and then concatenate all the dataframes into one dataframe\n",
    "\n",
    "import os\n",
    "import pandas as pd\n",
    "from tqdm import tqdm\n",
    "from typing import List\n",
    "import dask.dataframe as dd\n",
    "import multiprocessing\n",
    "\n",
    "def read_csv_to_df(file_path: str) -> pd.DataFrame:\n",
    "  df = pd.read_csv(file_path, index_col = 'time')\n",
    "  df = df[['close']]\n",
    "  df.columns = [file_path.split('/')[-1].replace(\".csv\",\"\")]\n",
    "  df.index = pd.to_datetime(df.index, unit='ms')\n",
    "\n",
    "  # assume df is a dataframe with a datetime index\n",
    "  start_time = '2023-06-03 12:00:00'\n",
    "  end_time = '2023-06-11 12:00:00'\n",
    "  # create a new datetime index at 5-minute intervals\n",
    "  new_index = pd.date_range(start=start_time, end=end_time, freq='5T')\n",
    "  # resample the dataframe to the new index\n",
    "  df_resampled = df.resample('5T').last().reindex(new_index)\n",
    "  # fill missing values with the last observed value\n",
    "  df_resampled.fillna(method='ffill', inplace=True)\n",
    "\n",
    "  return df_resampled\n",
    "\n",
    "def read_csvs_to_df(file_paths: List[str]) -> pd.DataFrame:\n",
    "    with multiprocessing.Pool() as pool:\n",
    "        dfs = list(tqdm(pool.map(read_csv_to_df, file_paths), total=len(file_paths)))\n",
    "    return dfs\n",
    "\n",
    "temp = read_csvs_to_df(spot)\n",
    "\n",
    "spot_df = dd.concat(temp, axis=1).compute()\n"
   ],
   "metadata": {
    "colab": {
     "base_uri": "https://localhost:8080/"
    },
    "id": "YMlpTylUSeI1",
    "outputId": "40cf1d25-94e0-485b-c8f4-21cef696ff1f"
   },
   "execution_count": null,
   "outputs": [
    {
     "output_type": "stream",
     "name": "stderr",
     "text": [
      "100%|██████████| 67/67 [00:00<00:00, 370736.63it/s]\n"
     ]
    }
   ]
  },
  {
   "cell_type": "code",
   "source": [
    "# count the number of missing values in each column\n",
    "na_counts = spot_df.isna().sum()\n",
    "\n",
    "# drop columns with more than 0 NaN value\n",
    "spot_df = spot_df.drop(columns=na_counts[na_counts >= 1].index)"
   ],
   "metadata": {
    "id": "shRW3G7syunK"
   },
   "execution_count": null,
   "outputs": []
  },
  {
   "cell_type": "code",
   "source": [
    "start_time = '2023-06-03 12:00:00'\n",
    "end_time = '2023-06-09 12:00:00'\n",
    "\n",
    "# Convert the start_time and end_time strings to datetime objects\n",
    "start_time = pd.to_datetime(start_time)\n",
    "end_time = pd.to_datetime(end_time)\n",
    "\n",
    "# Use boolean indexing to slice the DataFrame\n",
    "spot_df_corr_test = spot_df[(spot_df.index >= start_time) & (spot_df.index <= end_time)]"
   ],
   "metadata": {
    "id": "5pKyiC6FziNv"
   },
   "execution_count": null,
   "outputs": []
  }
 ]
}
